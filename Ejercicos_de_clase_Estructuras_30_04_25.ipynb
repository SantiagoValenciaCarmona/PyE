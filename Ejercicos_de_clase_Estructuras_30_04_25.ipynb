{
  "nbformat": 4,
  "nbformat_minor": 0,
  "metadata": {
    "colab": {
      "provenance": [],
      "authorship_tag": "ABX9TyOVBk8StEX924E2/joyHkAQ",
      "include_colab_link": true
    },
    "kernelspec": {
      "name": "python3",
      "display_name": "Python 3"
    },
    "language_info": {
      "name": "python"
    }
  },
  "cells": [
    {
      "cell_type": "markdown",
      "metadata": {
        "id": "view-in-github",
        "colab_type": "text"
      },
      "source": [
        "<a href=\"https://colab.research.google.com/github/SantiagoValenciaCarmona/PyE/blob/main/Ejercicos_de_clase_Estructuras_30_04_25.ipynb\" target=\"_parent\"><img src=\"https://colab.research.google.com/assets/colab-badge.svg\" alt=\"Open In Colab\"/></a>"
      ]
    },
    {
      "cell_type": "code",
      "source": [
        "# crea una pila vacia\n",
        "def Stack ():\n",
        "  return []\n",
        "\n",
        "# vereifica si la pila no tiene elementos\n",
        "def IsEmplyStack (pila):\n",
        "  return len(pila) == 0\n",
        "\n",
        "\n",
        "\n",
        "# adiciona un valor a la pila (al final)\n",
        "def push (pila,valor):\n",
        "  pila.append (valor)\n",
        "\n",
        "# elimina un valor de la pila el ultimo\n",
        "def pop (pila):\n",
        "  if not IsEmplyStack (pila) :\n",
        "    return pila.pop()\n",
        "  else:\n",
        "    print (\"error: pila vacia\")\n",
        "    return None\n",
        "\n",
        "#consulta el ultimo valor de la pila sin sacarlo\n",
        "\n",
        "def top (pila):\n",
        "  if not IsEmplyStack (pila):\n",
        "    return pila [-1]\n",
        "  else:\n",
        "      print (\"error: pila vacia\")\n",
        "      return None\n",
        "\n",
        "#  retorna la cantidad de elementos en la pila\n",
        "def sizeStack (pila):\n",
        "  return len (pila)"
      ],
      "metadata": {
        "id": "Aw-xjRmq-nbA"
      },
      "execution_count": 8,
      "outputs": []
    },
    {
      "cell_type": "code",
      "execution_count": 16,
      "metadata": {
        "colab": {
          "base_uri": "https://localhost:8080/"
        },
        "id": "eQu5s1Mg-BWT",
        "outputId": "9cb17406-aa5c-4a47-f532-54e1ad7fa324"
      },
      "outputs": [
        {
          "output_type": "stream",
          "name": "stdout",
          "text": [
            "Ingrese la cantidad de datos que desea ingresar a la pila4\n",
            "Ingrese los datos32\n",
            "Ingrese los datos54\n",
            "Ingrese los datos25\n",
            "Ingrese los datos15\n",
            "Tamaño Pila:  4\n",
            "Cantidad de Datos Divisibles por 5:  2\n",
            "[32, 54, 25, 15]\n"
          ]
        }
      ],
      "source": [
        "Pila2= Stack()\n",
        "N= int(input(\"Ingrese la cantidad de datos que desea ingresar a la pila\"))\n",
        "for i in range(N):\n",
        "    x=int(input(\"Ingrese los datos\"))\n",
        "    push(Pila2,x)\n",
        "print(\"Tamaño Pila: \",sizeStack(Pila2))\n",
        "cont = 0\n",
        "Pila2_1= Stack()\n",
        "while not IsEmplyStack(Pila2):\n",
        "  z=pop(Pila2)\n",
        "  push(Pila2_1,z)\n",
        "  if z % 5 == 0:\n",
        "    cont+=1\n",
        "print(\"Cantidad de Datos Divisibles por 5: \",cont)\n",
        "for r in range(sizeStack(Pila2_1)):\n",
        "  push(Pila2,pop(Pila2_1))\n",
        "print(Pila2)\n",
        "\n",
        "\n",
        ""
      ]
    },
    {
      "cell_type": "code",
      "source": [
        "##mio\n",
        "##va en lugar del while\n",
        "\n",
        "for i in range(sizeStack(Pila2)):\n",
        "    h= pop(Pila2)\n",
        "if h % 5 ==0:\n",
        "  cont += 1\n",
        "push(Pila2_1,h)"
      ],
      "metadata": {
        "id": "4d6qQ-rpDi4l"
      },
      "execution_count": null,
      "outputs": []
    }
  ]
}